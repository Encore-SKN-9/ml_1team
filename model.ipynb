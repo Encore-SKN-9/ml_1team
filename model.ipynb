{
 "cells": [
  {
   "cell_type": "markdown",
   "metadata": {},
   "source": [
    "## 0. 전처리 데이터 받아오기 및 데이터 분리"
   ]
  },
  {
   "cell_type": "code",
   "execution_count": 5,
   "metadata": {},
   "outputs": [],
   "source": [
    "import pandas as pd\n",
    "import numpy as np \n",
    "import matplotlib.pyplot as plt \n",
    "import seaborn as sns\n",
    "\n",
    "from sklearn.preprocessing import StandardScaler\n",
    "from sklearn.preprocessing import MinMaxScaler\n",
    "from sklearn.metrics import mean_squared_error, r2_score, root_mean_squared_error, mean_absolute_error"
   ]
  },
  {
   "cell_type": "code",
   "execution_count": 6,
   "metadata": {},
   "outputs": [],
   "source": [
    "# 한글 폰트 사용 설정\n",
    "# import matplotlib\n",
    "# import matplotlib.font_manager as fm\n",
    "\n",
    "# fontpath = 'C:\\\\Windows\\\\Fonts\\\\batang.TTC'    # 폰트경로\n",
    "# font = fm.FontProperties(fname=fontpath).get_name()     # 이름을 가져옴\n",
    "# matplotlib.rc(\"font\", family = font)    # 폰트설정 변경"
   ]
  },
  {
   "cell_type": "code",
   "execution_count": 7,
   "metadata": {},
   "outputs": [
    {
     "data": {
      "text/plain": [
       "Index(['school', 'sex', 'age', 'address', 'famsize', 'Pstatus', 'Medu', 'Fedu',\n",
       "       'traveltime', 'studytime', 'failures', 'schoolsup', 'famsup', 'paid',\n",
       "       'activities', 'nursery', 'higher', 'internet', 'romantic', 'famrel',\n",
       "       'freetime', 'goout', 'Dalc', 'Walc', 'health', 'absences',\n",
       "       'Mjob_at_home', 'Mjob_health', 'Mjob_other', 'Mjob_services',\n",
       "       'Mjob_teacher', 'Fjob_at_home', 'Fjob_health', 'Fjob_other',\n",
       "       'Fjob_services', 'Fjob_teacher', 'reason_course', 'reason_home',\n",
       "       'reason_other', 'reason_reputation', 'guardian_father',\n",
       "       'guardian_mother', 'guardian_other', 'G1', 'G2', 'G3', 'G_mean'],\n",
       "      dtype='object')"
      ]
     },
     "execution_count": 7,
     "metadata": {},
     "output_type": "execute_result"
    }
   ],
   "source": [
    "df = pd.read_csv('./data/new preprocessed Data.csv')\n",
    "df.shape\n",
    "df.columns"
   ]
  },
  {
   "cell_type": "code",
   "execution_count": 35,
   "metadata": {},
   "outputs": [],
   "source": [
    "from sklearn.model_selection import train_test_split  # type: ignore\n",
    "\n",
    "# # 환경적 요인만 사용했을 때\n",
    "# X = df.drop(['G1','G2','G3','G_mean'],axis = 1)\n",
    "# y = df['G_mean']\n",
    "\n",
    "#성적 요인을 추가하여 다음학기 G3를 예측했을 때\n",
    "X = df.drop(['G3','G_mean'],axis = 1)\n",
    "y = df['G3']\n",
    "\n",
    "\n",
    "\n",
    "X_train, X_test, y_train, y_test = train_test_split(X,y, test_size=0.2)\n",
    "\n",
    "\n",
    "# 첫번째 방식 ) 원래X -> 평균 G_mean\n",
    "# 두번째 방식 ) 원래 X 데이터 + G1, G2 => G3\n"
   ]
  },
  {
   "cell_type": "code",
   "execution_count": 16,
   "metadata": {},
   "outputs": [],
   "source": [
    "def model_score(y_test, y_pred):\n",
    "    mse = mean_squared_error(y_test, y_pred)\n",
    "    r2 = r2_score(y_test, y_pred)\n",
    "    print(f' mse : {round(mse,5)} | r2 : {round(r2,5)}')\n",
    "\n"
   ]
  },
  {
   "cell_type": "markdown",
   "metadata": {},
   "source": [
    "## 1. 회귀 (담당 : 예찬)"
   ]
  },
  {
   "cell_type": "code",
   "execution_count": 36,
   "metadata": {},
   "outputs": [
    {
     "name": "stdout",
     "output_type": "stream",
     "text": [
      "test\n",
      " mse : 0.8035 | r2 : 0.90515\n",
      "train\n",
      " mse : 0.56072 | r2 : 0.94813\n"
     ]
    }
   ],
   "source": [
    "# 선형회귀\n",
    "from sklearn.linear_model import LinearRegression\n",
    "\n",
    "# 3. 훈련/테스트 데이터 분리 (80% 훈련, 20% 테스트)\n",
    "\n",
    "# 4. 선형 회귀 모델 학습\n",
    "model = LinearRegression()\n",
    "model.fit(X_train, y_train)\n",
    "\n",
    "# 테스트 모델 점수\n",
    "y_pred = model.predict(X_test)\n",
    "print('test')\n",
    "model_score(y_test, y_pred)\n",
    "\n",
    "# 학습용 모델 점수\n",
    "y_pred = model.predict(X_train)\n",
    "print('train')\n",
    "model_score(y_train, y_pred)"
   ]
  },
  {
   "cell_type": "markdown",
   "metadata": {},
   "source": [
    "## 2. 결정트리 (담당: 주은)"
   ]
  },
  {
   "cell_type": "markdown",
   "metadata": {},
   "source": [
    "#### 1) 환경요인 확인 분석"
   ]
  },
  {
   "cell_type": "code",
   "execution_count": 41,
   "metadata": {},
   "outputs": [],
   "source": [
    "# # 목표 변수 설정\n",
    "# y = df['G_mean']\n",
    "# X = df.drop(columns=['G_mean','G1', 'G2', 'G3'])\n",
    "\n",
    "# # y 스케일링\n",
    "# scaler = MinMaxScaler()\n",
    "# y = scaler.fit_transform(y.values.reshape(-1, 1)).ravel()"
   ]
  },
  {
   "cell_type": "code",
   "execution_count": 37,
   "metadata": {},
   "outputs": [
    {
     "name": "stdout",
     "output_type": "stream",
     "text": [
      "test\n",
      " mse : 0.85298 | r2 : 0.89931\n",
      "\n",
      "train\n",
      " mse : 0.92572 | r2 : 0.91437\n"
     ]
    }
   ],
   "source": [
    "# 모델 훈련 및 평가\n",
    "from sklearn.tree import DecisionTreeRegressor\n",
    "\n",
    "# 학습\n",
    "dt = DecisionTreeRegressor(max_depth=3, min_samples_leaf=15, min_samples_split=15,random_state=42)\n",
    "dt.fit(X_train, y_train)\n",
    "\n",
    "# 테스트 모델 점수\n",
    "y_pred = dt.predict(X_test)\n",
    "print('test')\n",
    "model_score(y_test, y_pred)\n",
    "print()\n",
    "\n",
    "# 학습용 모델 점수\n",
    "y_pred = dt.predict(X_train)\n",
    "print('train')\n",
    "model_score(y_train, y_pred)\n",
    "\n"
   ]
  },
  {
   "cell_type": "markdown",
   "metadata": {},
   "source": [
    "#### 2) 성적 포함(G1)"
   ]
  },
  {
   "cell_type": "markdown",
   "metadata": {},
   "source": [
    "[설명서]\n",
    "\n",
    "\n",
    "y는 G3, \n",
    "\n",
    "X는 G_mean, G3, G2를 제외한 나머지 컬럼\n",
    "- G2를 제외하는 이유:\n",
    "이유를 모르겠지만 G2를 포함시키면 특성 중요도에서 G2가 100%가 나옴."
   ]
  },
  {
   "cell_type": "code",
   "execution_count": 43,
   "metadata": {},
   "outputs": [
    {
     "name": "stdout",
     "output_type": "stream",
     "text": [
      "mse: 2.4841460602219283, rmse: 1.576117400520002, r2: 0.7368489342985245\n"
     ]
    }
   ],
   "source": [
    "X = df.drop(columns=['G_mean', 'G3' , 'G2'])\n",
    "y = df['G3']\n",
    "\n",
    "# 데이터 분리\n",
    "X_train, X_test, y_train, y_test = train_test_split(X, y, random_state=0)\n",
    "\n",
    "# 학습\n",
    "dt = DecisionTreeRegressor(max_depth=3, min_samples_leaf=15, min_samples_split=15, random_state=42)\n",
    "dt.fit(X_train, y_train)\n",
    "\n",
    "# 훈련\n",
    "pred_train = dt.predict(X_train)\n",
    "pred_test = dt.predict(X_test)\n",
    "\n",
    "# 평가\n",
    "mse_test = mean_squared_error(y_test, pred_test)\n",
    "rmse_test = root_mean_squared_error(y_test, pred_test)\n",
    "r2_test = r2_score(y_test, pred_test)\n",
    "\n",
    "print(f'mse: {mse_test}, rmse: {rmse_test}, r2: {r2_test}')"
   ]
  },
  {
   "cell_type": "code",
   "execution_count": 44,
   "metadata": {},
   "outputs": [
    {
     "name": "stdout",
     "output_type": "stream",
     "text": [
      "Training MSE: 2.1325076541228225, RMSE: 1.4603108073704114, R²: 0.8003221415768323\n"
     ]
    }
   ],
   "source": [
    "# 훈련 데이터 평가\n",
    "mse_train = mean_squared_error(y_train, pred_train)\n",
    "rmse_train = root_mean_squared_error(y_train, pred_train)\n",
    "r2_train = r2_score(y_train, pred_train)\n",
    "\n",
    "print(f'Training MSE: {mse_train}, RMSE: {rmse_train}, R²: {r2_train}')"
   ]
  },
  {
   "cell_type": "code",
   "execution_count": 38,
   "metadata": {},
   "outputs": [
    {
     "name": "stdout",
     "output_type": "stream",
     "text": [
      "1. G2 (1.0)\n",
      "2. goout (0.0)\n",
      "3. famrel (0.0)\n",
      "4. romantic (0.0)\n",
      "5. internet (0.0)\n",
      "6. higher (0.0)\n",
      "7. nursery (0.0)\n",
      "8. activities (0.0)\n",
      "9. paid (0.0)\n",
      "10. famsup (0.0)\n",
      "11. schoolsup (0.0)\n",
      "12. failures (0.0)\n",
      "13. studytime (0.0)\n",
      "14. traveltime (0.0)\n",
      "15. Fedu (0.0)\n",
      "16. Medu (0.0)\n",
      "17. Pstatus (0.0)\n",
      "18. famsize (0.0)\n",
      "19. address (0.0)\n",
      "20. age (0.0)\n",
      "21. sex (0.0)\n",
      "22. freetime (0.0)\n",
      "23. Dalc (0.0)\n",
      "24. G1 (0.0)\n",
      "25. Walc (0.0)\n",
      "26. guardian_other (0.0)\n",
      "27. guardian_mother (0.0)\n",
      "28. guardian_father (0.0)\n",
      "29. reason_reputation (0.0)\n",
      "30. reason_other (0.0)\n",
      "31. reason_home (0.0)\n",
      "32. reason_course (0.0)\n",
      "33. Fjob_teacher (0.0)\n",
      "34. Fjob_services (0.0)\n",
      "35. Fjob_other (0.0)\n",
      "36. Fjob_health (0.0)\n",
      "37. Fjob_at_home (0.0)\n",
      "38. Mjob_teacher (0.0)\n",
      "39. Mjob_services (0.0)\n",
      "40. Mjob_other (0.0)\n",
      "41. Mjob_health (0.0)\n",
      "42. Mjob_at_home (0.0)\n",
      "43. absences (0.0)\n",
      "44. health (0.0)\n",
      "45. school (0.0)\n"
     ]
    },
    {
     "data": {
      "image/png": "[encoded data removed]",
      "text/plain": [
       "<Figure size 1200x600 with 1 Axes>"
      ]
     },
     "metadata": {},
     "output_type": "display_data"
    }
   ],
   "source": [
    "# 특성 중요도 확인\n",
    "import matplotlib.pyplot as plt\n",
    "\n",
    "importances = dt.feature_importances_\n",
    "indices = np.argsort(importances)[::-1]\n",
    "\n",
    "# 중요도가 높은 특성 순으로 출력\n",
    "for f in range(X_train.shape[1]):\n",
    "    print(f'{f + 1}. {X.columns[indices[f]]} ({importances[indices[f]]})')\n",
    "\n",
    "# 그래프를 통해 특성 중요도 시각화\n",
    "plt.figure(figsize=(12, 6))\n",
    "plt.title(\"Feature Importances\")\n",
    "plt.bar(range(X_train.shape[1]), importances[indices], align=\"center\")\n",
    "plt.xticks(range(X_train.shape[1]), X.columns[indices], rotation=90)\n",
    "plt.xlim([-1, X_train.shape[1]])\n",
    "plt.show()"
   ]
  },
  {
   "cell_type": "markdown",
   "metadata": {},
   "source": [
    "## 3. 앙상블"
   ]
  },
  {
   "cell_type": "markdown",
   "metadata": {},
   "source": [
    "### 3.1) 보팅 (주은)"
   ]
  },
  {
   "cell_type": "markdown",
   "metadata": {},
   "source": [
    "#### 1) 환경적 요인 확인"
   ]
  },
  {
   "cell_type": "code",
   "execution_count": 36,
   "metadata": {},
   "outputs": [],
   "source": [
    "# # 목표 변수 설정\n",
    "# y = df['G_mean']\n",
    "# X = df.drop(columns=['G_mean','G1', 'G2', 'G3'])\n",
    "\n",
    "# # y 스케일링\n",
    "# from sklearn.preprocessing import MinMaxScaler\n",
    "# scaler = MinMaxScaler()\n",
    "# y = scaler.fit_transform(y.values.reshape(-1, 1)).ravel()\n",
    "\n",
    "# # 데이터 분리 \n",
    "# from sklearn.model_selection import train_test_split\n",
    "# X_train, X_test, y_train, y_test = train_test_split(X, y, random_state=42)"
   ]
  },
  {
   "cell_type": "code",
   "execution_count": 39,
   "metadata": {},
   "outputs": [
    {
     "name": "stdout",
     "output_type": "stream",
     "text": [
      "test\n",
      " mse : 0.76583 | r2 : 0.9096\n",
      "\n",
      "train\n",
      " mse : 0.60524 | r2 : 0.94401\n"
     ]
    }
   ],
   "source": [
    "from sklearn.ensemble import VotingRegressor\n",
    "\n",
    "from sklearn.neighbors import KNeighborsRegressor\n",
    "from sklearn.linear_model import LinearRegression\n",
    "from sklearn.tree import DecisionTreeRegressor\n",
    "from sklearn.svm import SVR\n",
    "\n",
    "knn_reg = KNeighborsRegressor()\n",
    "lin_reg = LinearRegression()\n",
    "dt_reg = DecisionTreeRegressor(max_depth=3,min_samples_leaf=10, min_samples_split=10, random_state=0)\n",
    "svr_reg = SVR()\n",
    "\n",
    "voting_reg = VotingRegressor(\n",
    "    estimators=[\n",
    "        ('knn_clf', knn_reg),\n",
    "        ('lin_clf', lin_reg),\n",
    "        ('dt_clf', dt_reg),\n",
    "        ('svr_reg', svr_reg)\n",
    "    ]\n",
    ")\n",
    "# 훈련 \n",
    "voting_reg.fit(X_train, y_train)\n",
    "\n",
    "# 테스트 모델 점수\n",
    "y_pred = voting_reg.predict(X_test)\n",
    "print('test')\n",
    "model_score(y_test, y_pred)\n",
    "print()\n",
    "\n",
    "# 학습용 모델 점수\n",
    "y_pred = voting_reg.predict(X_train)\n",
    "print('train')\n",
    "model_score(y_train, y_pred)\n",
    "\n",
    "\n",
    "# y_pred_train = voting_reg.predict(X_train)\n",
    "# y_pred_test = voting_reg.predict(X_test)\n",
    "\n",
    "# mse =  mean_squared_error(y_test, y_pred_test)\n",
    "# rmse = root_mean_squared_error(y_test, y_pred_test)\n",
    "# r2 = r2_score(y_test, y_pred_test)\n",
    "\n",
    "# print(f'MSE: {mse}, RMSE: {rmse}, R2: {r2}')"
   ]
  },
  {
   "cell_type": "markdown",
   "metadata": {},
   "source": [
    "#### 2) G2를 빼고 이용"
   ]
  },
  {
   "cell_type": "code",
   "execution_count": 38,
   "metadata": {},
   "outputs": [],
   "source": [
    "X = df.drop(columns=['G_mean', 'G3' , 'G2'])\n",
    "y = df['G3']\n",
    "X_train, X_test, y_train, y_test = train_test_split(X, y, random_state=42)"
   ]
  },
  {
   "cell_type": "code",
   "execution_count": 39,
   "metadata": {},
   "outputs": [
    {
     "name": "stdout",
     "output_type": "stream",
     "text": [
      "MSE: 2.2767924858029702, RMSE: 1.5089043991595261, R2: 0.7640599363517212\n"
     ]
    }
   ],
   "source": [
    "# 훈련 \n",
    "voting_reg.fit(X_train, y_train)\n",
    "\n",
    "\n",
    "y_pred_train = voting_reg.predict(X_train)\n",
    "y_pred_test = voting_reg.predict(X_test)\n",
    "\n",
    "mse =  mean_squared_error(y_test, y_pred_test)\n",
    "rmse = root_mean_squared_error(y_test, y_pred_test)\n",
    "r2 = r2_score(y_test, y_pred_test)\n",
    "\n",
    "print(f'MSE: {mse}, RMSE: {rmse}, R2: {r2}')"
   ]
  },
  {
   "cell_type": "markdown",
   "metadata": {},
   "source": [
    "### 3.2) 배깅 (도연)"
   ]
  },
  {
   "cell_type": "code",
   "execution_count": 40,
   "metadata": {},
   "outputs": [
    {
     "name": "stdout",
     "output_type": "stream",
     "text": [
      "test\n",
      " mse : 0.72125 | r2 : 0.91486\n",
      "\n",
      "train\n",
      " mse : 0.15179 | r2 : 0.98596\n"
     ]
    }
   ],
   "source": [
    "from sklearn.ensemble import BaggingRegressor # type: ignore\n",
    "from sklearn.tree import DecisionTreeRegressor # type: ignore\n",
    "\n",
    "\n",
    "# 기본 모델로 의사결정나무 회귀 사용\n",
    "base_regressor = DecisionTreeRegressor(random_state=42)\n",
    "\n",
    "# BaggingRegressor로 앙상블 학습\n",
    "model = BaggingRegressor()#base_estimator=base_regressor, n_estimators=100, random_state=42)\n",
    "model.fit(X_train, y_train)\n",
    "\n",
    "# 테스트 모델 점수\n",
    "y_pred = model.predict(X_test)\n",
    "print('test')\n",
    "model_score(y_test, y_pred)\n",
    "print()\n",
    "\n",
    "# 학습용 모델 점수\n",
    "y_pred = model.predict(X_train)\n",
    "print('train')\n",
    "model_score(y_train, y_pred)\n",
    "\n",
    "\n"
   ]
  },
  {
   "cell_type": "markdown",
   "metadata": {},
   "source": [
    "### 3.3) 부스팅 (예찬)"
   ]
  },
  {
   "cell_type": "code",
   "execution_count": 41,
   "metadata": {},
   "outputs": [
    {
     "name": "stdout",
     "output_type": "stream",
     "text": [
      "test\n",
      " mse : 0.82307 | r2 : 0.91457\n",
      "\n",
      "train\n",
      " mse : 0.09057 | r2 : 0.99144\n"
     ]
    }
   ],
   "source": [
    "from xgboost import XGBRegressor\n",
    "\n",
    "\n",
    "# 훈련 세트와 테스트 세트 분할 (80% 훈련, 20% 테스트)\n",
    "X_train, X_test, y_train, y_test = train_test_split(X, y, test_size=0.2, random_state=42)\n",
    "\n",
    "# XGBoost 모델 생성 및 학습\n",
    "model = XGBRegressor(objective=\"reg:squarederror\", n_estimators=100, learning_rate=0.1, max_depth=4, random_state=42)\n",
    "model.fit(X_train, y_train)\n",
    "\n",
    "# 테스트 모델 점수\n",
    "y_pred = model.predict(X_test)\n",
    "print('test')\n",
    "model_score(y_test, y_pred)\n",
    "print()\n",
    "\n",
    "# 학습용 모델 점수\n",
    "y_pred = model.predict(X_train)\n",
    "print('train')\n",
    "model_score(y_train, y_pred)"
   ]
  },
  {
   "cell_type": "code",
   "execution_count": 52,
   "metadata": {},
   "outputs": [],
   "source": [
    "import warnings\n",
    "warnings.filterwarnings('ignore')"
   ]
  },
  {
   "cell_type": "code",
   "execution_count": 29,
   "metadata": {},
   "outputs": [
    {
     "name": "stdout",
     "output_type": "stream",
     "text": [
      "[LightGBM] [Info] Auto-choosing row-wise multi-threading, the overhead of testing was 0.001564 seconds.\n",
      "You can set `force_row_wise=true` to remove the overhead.\n",
      "And if memory is not enough, you can set `force_col_wise=true`.\n",
      "[LightGBM] [Info] Total Bins 173\n",
      "[LightGBM] [Info] Number of data points in the train set: 285, number of used features: 40\n",
      "[LightGBM] [Info] Start training from score 11.418596\n",
      "[LightGBM] [Warning] No further splits with positive gain, best gain: -inf\n",
      "[LightGBM] [Warning] No further splits with positive gain, best gain: -inf\n",
      "[LightGBM] [Warning] No further splits with positive gain, best gain: -inf\n",
      "[LightGBM] [Warning] No further splits with positive gain, best gain: -inf\n",
      "[LightGBM] [Warning] No further splits with positive gain, best gain: -inf\n",
      "[LightGBM] [Warning] No further splits with positive gain, best gain: -inf\n",
      "[LightGBM] [Warning] No further splits with positive gain, best gain: -inf\n",
      "[LightGBM] [Warning] No further splits with positive gain, best gain: -inf\n",
      "[LightGBM] [Warning] No further splits with positive gain, best gain: -inf\n",
      "[LightGBM] [Warning] No further splits with positive gain, best gain: -inf\n",
      "[LightGBM] [Warning] No further splits with positive gain, best gain: -inf\n",
      "[LightGBM] [Warning] No further splits with positive gain, best gain: -inf\n",
      "[LightGBM] [Warning] No further splits with positive gain, best gain: -inf\n",
      "[LightGBM] [Warning] No further splits with positive gain, best gain: -inf\n",
      "[LightGBM] [Warning] No further splits with positive gain, best gain: -inf\n",
      "[LightGBM] [Warning] No further splits with positive gain, best gain: -inf\n",
      "[LightGBM] [Warning] No further splits with positive gain, best gain: -inf\n",
      "[LightGBM] [Warning] No further splits with positive gain, best gain: -inf\n",
      "[LightGBM] [Warning] No further splits with positive gain, best gain: -inf\n",
      "[LightGBM] [Warning] No further splits with positive gain, best gain: -inf\n",
      "[LightGBM] [Warning] No further splits with positive gain, best gain: -inf\n",
      "[LightGBM] [Warning] No further splits with positive gain, best gain: -inf\n",
      "[LightGBM] [Warning] No further splits with positive gain, best gain: -inf\n",
      "[LightGBM] [Warning] No further splits with positive gain, best gain: -inf\n",
      "[LightGBM] [Warning] No further splits with positive gain, best gain: -inf\n",
      "[LightGBM] [Warning] No further splits with positive gain, best gain: -inf\n",
      "[LightGBM] [Warning] No further splits with positive gain, best gain: -inf\n",
      "[LightGBM] [Warning] No further splits with positive gain, best gain: -inf\n",
      "[LightGBM] [Warning] No further splits with positive gain, best gain: -inf\n",
      "[LightGBM] [Warning] No further splits with positive gain, best gain: -inf\n",
      "[LightGBM] [Warning] No further splits with positive gain, best gain: -inf\n",
      "[LightGBM] [Warning] No further splits with positive gain, best gain: -inf\n",
      "[LightGBM] [Warning] No further splits with positive gain, best gain: -inf\n",
      "[LightGBM] [Warning] No further splits with positive gain, best gain: -inf\n",
      "[LightGBM] [Warning] No further splits with positive gain, best gain: -inf\n",
      "[LightGBM] [Warning] No further splits with positive gain, best gain: -inf\n",
      "[LightGBM] [Warning] No further splits with positive gain, best gain: -inf\n",
      "[LightGBM] [Warning] No further splits with positive gain, best gain: -inf\n",
      "[LightGBM] [Warning] No further splits with positive gain, best gain: -inf\n",
      "[LightGBM] [Warning] No further splits with positive gain, best gain: -inf\n",
      "[LightGBM] [Warning] No further splits with positive gain, best gain: -inf\n",
      "[LightGBM] [Warning] No further splits with positive gain, best gain: -inf\n",
      "[LightGBM] [Warning] No further splits with positive gain, best gain: -inf\n",
      "[LightGBM] [Warning] No further splits with positive gain, best gain: -inf\n",
      "[LightGBM] [Warning] No further splits with positive gain, best gain: -inf\n",
      "[LightGBM] [Warning] No further splits with positive gain, best gain: -inf\n",
      "[LightGBM] [Warning] No further splits with positive gain, best gain: -inf\n",
      "[LightGBM] [Warning] No further splits with positive gain, best gain: -inf\n",
      "[LightGBM] [Warning] No further splits with positive gain, best gain: -inf\n",
      "[LightGBM] [Warning] No further splits with positive gain, best gain: -inf\n",
      "[LightGBM] [Warning] No further splits with positive gain, best gain: -inf\n",
      "[LightGBM] [Warning] No further splits with positive gain, best gain: -inf\n",
      "[LightGBM] [Warning] No further splits with positive gain, best gain: -inf\n",
      "[LightGBM] [Warning] No further splits with positive gain, best gain: -inf\n",
      "[LightGBM] [Warning] No further splits with positive gain, best gain: -inf\n",
      "[LightGBM] [Warning] No further splits with positive gain, best gain: -inf\n",
      "[LightGBM] [Warning] No further splits with positive gain, best gain: -inf\n",
      "[LightGBM] [Warning] No further splits with positive gain, best gain: -inf\n",
      "[LightGBM] [Warning] No further splits with positive gain, best gain: -inf\n",
      "[LightGBM] [Warning] No further splits with positive gain, best gain: -inf\n",
      "[LightGBM] [Warning] No further splits with positive gain, best gain: -inf\n",
      "[LightGBM] [Warning] No further splits with positive gain, best gain: -inf\n",
      "[LightGBM] [Warning] No further splits with positive gain, best gain: -inf\n",
      "[LightGBM] [Warning] No further splits with positive gain, best gain: -inf\n",
      "[LightGBM] [Warning] No further splits with positive gain, best gain: -inf\n",
      "[LightGBM] [Warning] No further splits with positive gain, best gain: -inf\n",
      "[LightGBM] [Warning] No further splits with positive gain, best gain: -inf\n",
      "[LightGBM] [Warning] No further splits with positive gain, best gain: -inf\n",
      "[LightGBM] [Warning] No further splits with positive gain, best gain: -inf\n",
      "[LightGBM] [Warning] No further splits with positive gain, best gain: -inf\n",
      "[LightGBM] [Warning] No further splits with positive gain, best gain: -inf\n",
      "[LightGBM] [Warning] No further splits with positive gain, best gain: -inf\n",
      "[LightGBM] [Warning] No further splits with positive gain, best gain: -inf\n",
      "[LightGBM] [Warning] No further splits with positive gain, best gain: -inf\n",
      "[LightGBM] [Warning] No further splits with positive gain, best gain: -inf\n",
      "[LightGBM] [Warning] No further splits with positive gain, best gain: -inf\n",
      "[LightGBM] [Warning] No further splits with positive gain, best gain: -inf\n",
      "[LightGBM] [Warning] No further splits with positive gain, best gain: -inf\n",
      "[LightGBM] [Warning] No further splits with positive gain, best gain: -inf\n",
      "[LightGBM] [Warning] No further splits with positive gain, best gain: -inf\n",
      "[LightGBM] [Warning] No further splits with positive gain, best gain: -inf\n",
      "[LightGBM] [Warning] No further splits with positive gain, best gain: -inf\n",
      "[LightGBM] [Warning] No further splits with positive gain, best gain: -inf\n",
      "[LightGBM] [Warning] No further splits with positive gain, best gain: -inf\n",
      "[LightGBM] [Warning] No further splits with positive gain, best gain: -inf\n",
      "[LightGBM] [Warning] No further splits with positive gain, best gain: -inf\n",
      "[LightGBM] [Warning] No further splits with positive gain, best gain: -inf\n",
      "[LightGBM] [Warning] No further splits with positive gain, best gain: -inf\n",
      "[LightGBM] [Warning] No further splits with positive gain, best gain: -inf\n",
      "[LightGBM] [Warning] No further splits with positive gain, best gain: -inf\n",
      "[LightGBM] [Warning] No further splits with positive gain, best gain: -inf\n",
      "[LightGBM] [Warning] No further splits with positive gain, best gain: -inf\n",
      "[LightGBM] [Warning] No further splits with positive gain, best gain: -inf\n",
      "[LightGBM] [Warning] No further splits with positive gain, best gain: -inf\n",
      "[LightGBM] [Warning] No further splits with positive gain, best gain: -inf\n",
      "[LightGBM] [Warning] No further splits with positive gain, best gain: -inf\n",
      "[LightGBM] [Warning] No further splits with positive gain, best gain: -inf\n",
      "[LightGBM] [Warning] No further splits with positive gain, best gain: -inf\n",
      "[LightGBM] [Warning] No further splits with positive gain, best gain: -inf\n",
      "[LightGBM] [Warning] No further splits with positive gain, best gain: -inf\n",
      "test\n",
      " mse : 7.52663 | r2 : 0.15164\n",
      "\n",
      "train\n",
      " mse : 3.75105 | r2 : 0.621\n"
     ]
    }
   ],
   "source": [
    "from lightgbm import LGBMClassifier\n",
    "from sklearn.metrics import accuracy_score\n",
    "\n",
    "# LightGBM 라이브러리 로드\n",
    "from lightgbm import LGBMRegressor\n",
    "\n",
    "# LightGBM 회귀 모델 학습\n",
    "lgbm_model = LGBMRegressor(n_estimators=100, learning_rate=0.1, max_depth=3, random_state=42)\n",
    "lgbm_model.fit(X_train, y_train)\n",
    "\n",
    "# 테스트 모델 점수\n",
    "y_pred = lgbm_model.predict(X_test)\n",
    "print('test')\n",
    "model_score(y_test, y_pred)\n",
    "print()\n",
    "\n",
    "# 학습용 모델 점수\n",
    "y_pred = lgbm_model.predict(X_train)\n",
    "print('train')\n",
    "model_score(y_train, y_pred)"
   ]
  },
  {
   "cell_type": "code",
   "execution_count": 43,
   "metadata": {},
   "outputs": [
    {
     "name": "stdout",
     "output_type": "stream",
     "text": [
      "test\n",
      " mse : 0.72261 | r2 : 0.92499\n",
      "\n",
      "train\n",
      " mse : 0.5189 | r2 : 0.95094\n"
     ]
    }
   ],
   "source": [
    "from sklearn.ensemble import GradientBoostingRegressor\n",
    "# Simple Gradient Boosting 모델 학습\n",
    "sgb_model = GradientBoostingRegressor(n_estimators=50, learning_rate=0.1, max_depth=2, random_state=42)\n",
    "sgb_model.fit(X_train, y_train)\n",
    "\n",
    "\n",
    "# 테스트 모델 점수\n",
    "y_pred = sgb_model.predict(X_test)\n",
    "print('test')\n",
    "model_score(y_test, y_pred)\n",
    "print()\n",
    "\n",
    "# 학습용 모델 점수\n",
    "y_pred = sgb_model.predict(X_train)\n",
    "print('train')\n",
    "model_score(y_train, y_pred)"
   ]
  },
  {
   "cell_type": "code",
   "execution_count": 42,
   "metadata": {},
   "outputs": [
    {
     "name": "stdout",
     "output_type": "stream",
     "text": [
      "test\n",
      " mse : 0.98003 | r2 : 0.89827\n",
      "\n",
      "train\n",
      " mse : 0.36363 | r2 : 0.96562\n"
     ]
    }
   ],
   "source": [
    "from sklearn.ensemble import HistGradientBoostingRegressor\n",
    "\n",
    "# HistGradientBoosting 모델 학습\n",
    "hgb_model = HistGradientBoostingRegressor(max_iter=100, learning_rate=0.1, max_depth=3, random_state=42)\n",
    "hgb_model.fit(X_train, y_train)\n",
    "\n",
    "# 테스트 모델 점수\n",
    "y_pred = hgb_model.predict(X_test)\n",
    "print('test')\n",
    "model_score(y_test, y_pred)\n",
    "print()\n",
    "\n",
    "# 학습용 모델 점수\n",
    "y_pred = hgb_model.predict(X_train)\n",
    "print('train')\n",
    "model_score(y_train, y_pred)"
   ]
  },
  {
   "cell_type": "markdown",
   "metadata": {},
   "source": [
    "### 3.4) 랜덤포레스트 (도연)"
   ]
  },
  {
   "cell_type": "code",
   "execution_count": 44,
   "metadata": {},
   "outputs": [
    {
     "name": "stdout",
     "output_type": "stream",
     "text": [
      "test\n",
      " mse : 0.70669 | r2 : 0.92665\n",
      "\n",
      "train\n",
      " mse : 0.17454 | r2 : 0.9835\n"
     ]
    },
    {
     "data": {
      "text/plain": [
       "G2                   0.938148\n",
       "G1                   0.011262\n",
       "absences             0.004924\n",
       "Walc                 0.004658\n",
       "goout                0.003899\n",
       "age                  0.003035\n",
       "famrel               0.002634\n",
       "freetime             0.002333\n",
       "health               0.002237\n",
       "Medu                 0.002089\n",
       "Fedu                 0.001697\n",
       "traveltime           0.001410\n",
       "studytime            0.001272\n",
       "Dalc                 0.001152\n",
       "failures             0.001117\n",
       "reason_course        0.001035\n",
       "Mjob_other           0.001002\n",
       "Fjob_other           0.000992\n",
       "guardian_father      0.000944\n",
       "reason_reputation    0.000899\n",
       "famsize              0.000810\n",
       "nursery              0.000787\n",
       "Mjob_services        0.000771\n",
       "reason_home          0.000770\n",
       "romantic             0.000748\n",
       "sex                  0.000695\n",
       "internet             0.000690\n",
       "activities           0.000667\n",
       "Fjob_services        0.000620\n",
       "Mjob_health          0.000593\n",
       "Fjob_health          0.000592\n",
       "guardian_other       0.000569\n",
       "schoolsup            0.000564\n",
       "paid                 0.000536\n",
       "famsup               0.000526\n",
       "Mjob_teacher         0.000520\n",
       "Mjob_at_home         0.000492\n",
       "Pstatus              0.000372\n",
       "guardian_mother      0.000357\n",
       "Fjob_teacher         0.000342\n",
       "address              0.000309\n",
       "reason_other         0.000264\n",
       "school               0.000242\n",
       "Fjob_at_home         0.000229\n",
       "higher               0.000196\n",
       "dtype: float64"
      ]
     },
     "execution_count": 44,
     "metadata": {},
     "output_type": "execute_result"
    }
   ],
   "source": [
    "from sklearn.ensemble import RandomForestRegressor\n",
    "\n",
    "\n",
    "model = RandomForestRegressor(n_estimators=100, max_depth=7, random_state=0)\n",
    "\n",
    "# 학습\n",
    "model.fit(X_train, y_train)\n",
    "\n",
    "# 테스트 모델 점수\n",
    "y_pred = model.predict(X_test)\n",
    "print('test')\n",
    "model_score(y_test, y_pred)\n",
    "print()\n",
    "\n",
    "# 학습용 모델 점수\n",
    "y_pred = model.predict(X_train)\n",
    "print('train')\n",
    "model_score(y_train, y_pred)\n",
    "\n",
    "# rf_clf.estimators_ : 100개의 DecisionTreeClassifier를 확인\n",
    "\n",
    "\n",
    "# print(rf_clf.estimators_samples_)       # 100개의 DecisionTreeClassifier가 사용한 샘플 데이터 확인\n",
    "\n",
    "\n",
    "# 특성 중요도 확인\n",
    "fis = pd.Series(model.feature_importances_, index= X.columns).sort_values(ascending=False)\n",
    "fis\n"
   ]
  },
  {
   "cell_type": "code",
   "execution_count": 45,
   "metadata": {},
   "outputs": [
    {
     "data": {
      "image/png": "[encoded data removed]",
      "text/plain": [
       "<Figure size 800x600 with 1 Axes>"
      ]
     },
     "metadata": {},
     "output_type": "display_data"
    }
   ],
   "source": [
    "# 특성 중요도 시각화\n",
    "plt.figure(figsize=(8,6))\n",
    "sns.barplot(\n",
    "    x=fis,\n",
    "    y=fis.index,\n",
    "    hue=fis.index\n",
    ")\n",
    "\n",
    "plt.title('Feature Importance')\n",
    "plt.xlabel('Feature Importance')\n",
    "plt.ylabel('Feature')\n",
    "plt.show()"
   ]
  },
  {
   "cell_type": "code",
   "execution_count": null,
   "metadata": {},
   "outputs": [],
   "source": []
  }
 ],
 "metadata": {
  "kernelspec": {
   "display_name": "pystudy_env",
   "language": "python",
   "name": "python3"
  },
  "language_info": {
   "codemirror_mode": {
    "name": "ipython",
    "version": 3
   },
   "file_extension": ".py",
   "mimetype": "text/x-python",
   "name": "python",
   "nbconvert_exporter": "python",
   "pygments_lexer": "ipython3",
   "version": "3.12.8"
  }
 },
 "nbformat": 4,
 "nbformat_minor": 2
}
