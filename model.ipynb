{
 "cells": [
  {
   "cell_type": "markdown",
   "metadata": {},
   "source": [
    "## 0. 전처리 데이터 받아오기 및 데이터 분리"
   ]
  },
  {
   "cell_type": "code",
   "execution_count": 46,
   "metadata": {},
   "outputs": [],
   "source": [
    "import pandas as pd\n",
    "import numpy as np \n",
    "import matplotlib.pyplot as plt \n",
    "import seaborn as sns\n",
    "\n",
    "from sklearn.preprocessing import StandardScaler\n",
    "from sklearn.preprocessing import MinMaxScaler\n",
    "from sklearn.metrics import mean_squared_error, r2_score, root_mean_squared_error, mean_absolute_error"
   ]
  },
  {
   "cell_type": "code",
   "execution_count": 3,
   "metadata": {},
   "outputs": [],
   "source": [
    "# 한글 폰트 사용 설정\n",
    "# import matplotlib\n",
    "# import matplotlib.font_manager as fm\n",
    "\n",
    "# fontpath = 'C:\\\\Windows\\\\Fonts\\\\batang.TTC'    # 폰트경로\n",
    "# font = fm.FontProperties(fname=fontpath).get_name()     # 이름을 가져옴\n",
    "# matplotlib.rc(\"font\", family = font)    # 폰트설정 변경"
   ]
  },
  {
   "cell_type": "code",
   "execution_count": 4,
   "metadata": {},
   "outputs": [
    {
     "data": {
      "text/plain": [
       "Index(['school', 'sex', 'age', 'address', 'famsize', 'Pstatus', 'Medu', 'Fedu',\n",
       "       'traveltime', 'studytime', 'failures', 'schoolsup', 'famsup', 'paid',\n",
       "       'activities', 'nursery', 'higher', 'internet', 'romantic', 'famrel',\n",
       "       'freetime', 'goout', 'Dalc', 'Walc', 'health', 'absences',\n",
       "       'Mjob_at_home', 'Mjob_health', 'Mjob_other', 'Mjob_services',\n",
       "       'Mjob_teacher', 'Fjob_at_home', 'Fjob_health', 'Fjob_other',\n",
       "       'Fjob_services', 'Fjob_teacher', 'reason_course', 'reason_home',\n",
       "       'reason_other', 'reason_reputation', 'guardian_father',\n",
       "       'guardian_mother', 'guardian_other', 'G1', 'G2', 'G3', 'G_mean'],\n",
       "      dtype='object')"
      ]
     },
     "execution_count": 4,
     "metadata": {},
     "output_type": "execute_result"
    }
   ],
   "source": [
    "df = pd.read_csv('./data/new preprocessed Data.csv')\n",
    "df.shape\n",
    "df.columns"
   ]
  },
  {
   "cell_type": "code",
   "execution_count": null,
   "metadata": {},
   "outputs": [],
   "source": [
    "from sklearn.model_selection import train_test_split  # type: ignore\n",
    "\n",
    "# X=df.drop(['G1','G2','G3','G_mean'],axis = 1)\n",
    "# y=df['G_mean']\n",
    "\n",
    "\n",
    "X=df.drop(['G3','G_mean'],axis = 1)\n",
    "y=df['G3']\n",
    "\n",
    "\n",
    "\n",
    "X_train, X_test, y_train, y_test = train_test_split(X,y, test_size=0.2)\n",
    "\n",
    "\n",
    "# 첫번째 방식 ) 원래X -> 평균 G_mean\n",
    "# 두번째 방식 ) 원래 X 데이터 + G1, G2 => G3\n"
   ]
  },
  {
   "cell_type": "markdown",
   "metadata": {},
   "source": [
    "## 1. 회귀 (담당 : 예찬)"
   ]
  },
  {
   "cell_type": "code",
   "execution_count": 47,
   "metadata": {},
   "outputs": [
    {
     "data": {
      "text/plain": [
       "(2.8135188459017857, 1.677354716779306, 0.707961442100898)"
      ]
     },
     "execution_count": 47,
     "metadata": {},
     "output_type": "execute_result"
    }
   ],
   "source": [
    "# 선형회귀\n",
    "from sklearn.linear_model import LinearRegression\n",
    "\n",
    "# 3. 훈련/테스트 데이터 분리 (80% 훈련, 20% 테스트)\n",
    "X_train, X_test, y_train, y_test = train_test_split(X, y, test_size=0.2, random_state=42)\n",
    "\n",
    "# 4. 선형 회귀 모델 학습\n",
    "model = LinearRegression()\n",
    "model.fit(X_train, y_train)\n",
    "\n",
    "# 5. 예측 수행\n",
    "y_pred = model.predict(X_test)\n",
    "\n",
    "# 6. 모델 평가\n",
    "mse = mean_squared_error(y_test, y_pred)\n",
    "rmse = np.sqrt(mse)\n",
    "r2 = r2_score(y_test, y_pred)\n",
    "\n",
    "# 결과 출력\n",
    "mse, rmse, r2"
   ]
  },
  {
   "cell_type": "markdown",
   "metadata": {},
   "source": [
    "## 2. 결정트리 (담당: 주은)"
   ]
  },
  {
   "cell_type": "markdown",
   "metadata": {},
   "source": [
    "#### 1) 환경요인 확인 분석"
   ]
  },
  {
   "cell_type": "code",
   "execution_count": 41,
   "metadata": {},
   "outputs": [],
   "source": [
    "# 목표 변수 설정\n",
    "y = df['G_mean']\n",
    "X = df.drop(columns=['G_mean','G1', 'G2', 'G3'])\n",
    "\n",
    "# y 스케일링\n",
    "scaler = MinMaxScaler()\n",
    "y = scaler.fit_transform(y.values.reshape(-1, 1)).ravel()"
   ]
  },
  {
   "cell_type": "code",
   "execution_count": 42,
   "metadata": {},
   "outputs": [
    {
     "name": "stdout",
     "output_type": "stream",
     "text": [
      "mse: 0.03433893070620746, rmse: 0.18530766499583187, r2: 0.13318770796900226\n"
     ]
    }
   ],
   "source": [
    "# 데이터 분리\n",
    "X_train, X_test, y_train, y_test = train_test_split(X, y, random_state=42)\n",
    "\n",
    "# 모델 훈련 및 평가\n",
    "from sklearn.tree import DecisionTreeRegressor\n",
    "\n",
    "# 학습\n",
    "dt = DecisionTreeRegressor(max_depth=3, min_samples_leaf=15, min_samples_split=15,random_state=42)\n",
    "dt.fit(X_train, y_train)\n",
    "\n",
    "# 훈련\n",
    "pred_train = dt.predict(X_train)\n",
    "pred_test = dt.predict(X_test)\n",
    "\n",
    "# 평가\n",
    "mse_test = mean_squared_error(y_test, pred_test)\n",
    "rmse_test = root_mean_squared_error(y_test, pred_test)\n",
    "r2_test = r2_score(y_test, pred_test)\n",
    "\n",
    "print(f'mse: {mse_test}, rmse: {rmse_test}, r2: {r2_test}')"
   ]
  },
  {
   "cell_type": "markdown",
   "metadata": {},
   "source": [
    "#### 2) 성적 포함(G1)"
   ]
  },
  {
   "cell_type": "markdown",
   "metadata": {},
   "source": [
    "[설명서]\n",
    "\n",
    "\n",
    "y는 G3, \n",
    "\n",
    "X는 G_mean, G3, G2를 제외한 나머지 컬럼\n",
    "- G2를 제외하는 이유:\n",
    "이유를 모르겠지만 G2를 포함시키면 특성 중요도에서 G2가 100%가 나옴."
   ]
  },
  {
   "cell_type": "code",
   "execution_count": 43,
   "metadata": {},
   "outputs": [
    {
     "name": "stdout",
     "output_type": "stream",
     "text": [
      "mse: 2.4841460602219283, rmse: 1.576117400520002, r2: 0.7368489342985245\n"
     ]
    }
   ],
   "source": [
    "X = df.drop(columns=['G_mean', 'G3' , 'G2'])\n",
    "y = df['G3']\n",
    "\n",
    "# 데이터 분리\n",
    "X_train, X_test, y_train, y_test = train_test_split(X, y, random_state=0)\n",
    "\n",
    "# 학습\n",
    "dt = DecisionTreeRegressor(max_depth=3, min_samples_leaf=15, min_samples_split=15, random_state=42)\n",
    "dt.fit(X_train, y_train)\n",
    "\n",
    "# 훈련\n",
    "pred_train = dt.predict(X_train)\n",
    "pred_test = dt.predict(X_test)\n",
    "\n",
    "# 평가\n",
    "mse_test = mean_squared_error(y_test, pred_test)\n",
    "rmse_test = root_mean_squared_error(y_test, pred_test)\n",
    "r2_test = r2_score(y_test, pred_test)\n",
    "\n",
    "print(f'mse: {mse_test}, rmse: {rmse_test}, r2: {r2_test}')"
   ]
  },
  {
   "cell_type": "code",
   "execution_count": 44,
   "metadata": {},
   "outputs": [
    {
     "name": "stdout",
     "output_type": "stream",
     "text": [
      "Training MSE: 2.1325076541228225, RMSE: 1.4603108073704114, R²: 0.8003221415768323\n"
     ]
    }
   ],
   "source": [
    "# 훈련 데이터 평가\n",
    "mse_train = mean_squared_error(y_train, pred_train)\n",
    "rmse_train = root_mean_squared_error(y_train, pred_train)\n",
    "r2_train = r2_score(y_train, pred_train)\n",
    "\n",
    "print(f'Training MSE: {mse_train}, RMSE: {rmse_train}, R²: {r2_train}')"
   ]
  },
  {
   "cell_type": "code",
   "execution_count": 45,
   "metadata": {},
   "outputs": [
    {
     "name": "stdout",
     "output_type": "stream",
     "text": [
      "1. G1 (0.9883353619019547)\n",
      "2. absences (0.011664638098045174)\n",
      "3. freetime (0.0)\n",
      "4. romantic (0.0)\n",
      "5. internet (0.0)\n",
      "6. higher (0.0)\n",
      "7. nursery (0.0)\n",
      "8. activities (0.0)\n",
      "9. paid (0.0)\n",
      "10. famsup (0.0)\n",
      "11. schoolsup (0.0)\n",
      "12. failures (0.0)\n",
      "13. studytime (0.0)\n",
      "14. traveltime (0.0)\n",
      "15. Fedu (0.0)\n",
      "16. Medu (0.0)\n",
      "17. Pstatus (0.0)\n",
      "18. famsize (0.0)\n",
      "19. address (0.0)\n",
      "20. age (0.0)\n",
      "21. sex (0.0)\n",
      "22. famrel (0.0)\n",
      "23. goout (0.0)\n",
      "24. guardian_other (0.0)\n",
      "25. Fjob_other (0.0)\n",
      "26. guardian_mother (0.0)\n",
      "27. guardian_father (0.0)\n",
      "28. reason_reputation (0.0)\n",
      "29. reason_other (0.0)\n",
      "30. reason_home (0.0)\n",
      "31. reason_course (0.0)\n",
      "32. Fjob_teacher (0.0)\n",
      "33. Fjob_services (0.0)\n",
      "34. Fjob_health (0.0)\n",
      "35. Dalc (0.0)\n",
      "36. Fjob_at_home (0.0)\n",
      "37. Mjob_teacher (0.0)\n",
      "38. Mjob_services (0.0)\n",
      "39. Mjob_other (0.0)\n",
      "40. Mjob_health (0.0)\n",
      "41. Mjob_at_home (0.0)\n",
      "42. health (0.0)\n",
      "43. Walc (0.0)\n",
      "44. school (0.0)\n"
     ]
    },
    {
     "data": {
      "image/png": "[encoded data removed]",
      "text/plain": [
       "<Figure size 1200x600 with 1 Axes>"
      ]
     },
     "metadata": {},
     "output_type": "display_data"
    }
   ],
   "source": [
    "# 특성 중요도 확인\n",
    "import matplotlib.pyplot as plt\n",
    "\n",
    "importances = dt.feature_importances_\n",
    "indices = np.argsort(importances)[::-1]\n",
    "\n",
    "# 중요도가 높은 특성 순으로 출력\n",
    "for f in range(X_train.shape[1]):\n",
    "    print(f'{f + 1}. {X.columns[indices[f]]} ({importances[indices[f]]})')\n",
    "\n",
    "# 그래프를 통해 특성 중요도 시각화\n",
    "plt.figure(figsize=(12, 6))\n",
    "plt.title(\"Feature Importances\")\n",
    "plt.bar(range(X_train.shape[1]), importances[indices], align=\"center\")\n",
    "plt.xticks(range(X_train.shape[1]), X.columns[indices], rotation=90)\n",
    "plt.xlim([-1, X_train.shape[1]])\n",
    "plt.show()"
   ]
  },
  {
   "cell_type": "markdown",
   "metadata": {},
   "source": [
    "## 3. 앙상블"
   ]
  },
  {
   "cell_type": "markdown",
   "metadata": {},
   "source": [
    "### 3.1) 보팅 (주은)"
   ]
  },
  {
   "cell_type": "markdown",
   "metadata": {},
   "source": [
    "#### 1) 환경적 요인 확인"
   ]
  },
  {
   "cell_type": "code",
   "execution_count": 36,
   "metadata": {},
   "outputs": [],
   "source": [
    "# 목표 변수 설정\n",
    "y = df['G_mean']\n",
    "X = df.drop(columns=['G_mean','G1', 'G2', 'G3'])\n",
    "\n",
    "# y 스케일링\n",
    "from sklearn.preprocessing import MinMaxScaler\n",
    "scaler = MinMaxScaler()\n",
    "y = scaler.fit_transform(y.values.reshape(-1, 1)).ravel()\n",
    "\n",
    "# 데이터 분리 \n",
    "from sklearn.model_selection import train_test_split\n",
    "X_train, X_test, y_train, y_test = train_test_split(X, y, random_state=42)"
   ]
  },
  {
   "cell_type": "code",
   "execution_count": 37,
   "metadata": {},
   "outputs": [
    {
     "name": "stdout",
     "output_type": "stream",
     "text": [
      "MSE: 0.030719299884496593, RMSE: 0.17526922115561702, R2: 0.22455748636184147\n"
     ]
    }
   ],
   "source": [
    "from sklearn.ensemble import VotingRegressor\n",
    "\n",
    "from sklearn.neighbors import KNeighborsRegressor\n",
    "from sklearn.linear_model import LinearRegression\n",
    "from sklearn.tree import DecisionTreeRegressor\n",
    "from sklearn.svm import SVR\n",
    "\n",
    "knn_reg = KNeighborsRegressor()\n",
    "lin_reg = LinearRegression()\n",
    "dt_reg = DecisionTreeRegressor(max_depth=3,min_samples_leaf=10, min_samples_split=10, random_state=0)\n",
    "svr_reg = SVR()\n",
    "\n",
    "voting_reg = VotingRegressor(\n",
    "    estimators=[\n",
    "        ('knn_clf', knn_reg),\n",
    "        ('lin_clf', lin_reg),\n",
    "        ('dt_clf', dt_reg),\n",
    "        ('svr_reg', svr_reg)\n",
    "    ]\n",
    ")\n",
    "# 훈련 \n",
    "voting_reg.fit(X_train, y_train)\n",
    "\n",
    "y_pred_train = voting_reg.predict(X_train)\n",
    "y_pred_test = voting_reg.predict(X_test)\n",
    "\n",
    "mse =  mean_squared_error(y_test, y_pred_test)\n",
    "rmse = root_mean_squared_error(y_test, y_pred_test)\n",
    "r2 = r2_score(y_test, y_pred_test)\n",
    "\n",
    "print(f'MSE: {mse}, RMSE: {rmse}, R2: {r2}')"
   ]
  },
  {
   "cell_type": "markdown",
   "metadata": {},
   "source": [
    "#### 2) G2를 빼고 이용"
   ]
  },
  {
   "cell_type": "code",
   "execution_count": 38,
   "metadata": {},
   "outputs": [],
   "source": [
    "X = df.drop(columns=['G_mean', 'G3' , 'G2'])\n",
    "y = df['G3']\n",
    "X_train, X_test, y_train, y_test = train_test_split(X, y, random_state=42)"
   ]
  },
  {
   "cell_type": "code",
   "execution_count": 39,
   "metadata": {},
   "outputs": [
    {
     "name": "stdout",
     "output_type": "stream",
     "text": [
      "MSE: 2.2767924858029702, RMSE: 1.5089043991595261, R2: 0.7640599363517212\n"
     ]
    }
   ],
   "source": [
    "# 훈련 \n",
    "voting_reg.fit(X_train, y_train)\n",
    "\n",
    "\n",
    "y_pred_train = voting_reg.predict(X_train)\n",
    "y_pred_test = voting_reg.predict(X_test)\n",
    "\n",
    "mse =  mean_squared_error(y_test, y_pred_test)\n",
    "rmse = root_mean_squared_error(y_test, y_pred_test)\n",
    "r2 = r2_score(y_test, y_pred_test)\n",
    "\n",
    "print(f'MSE: {mse}, RMSE: {rmse}, R2: {r2}')"
   ]
  },
  {
   "cell_type": "markdown",
   "metadata": {},
   "source": [
    "### 3.2) 배깅 (도연)"
   ]
  },
  {
   "cell_type": "code",
   "execution_count": 28,
   "metadata": {},
   "outputs": [
    {
     "name": "stdout",
     "output_type": "stream",
     "text": [
      "Mean Squared Error: 0.9418055555555556| r2 score: 0.9105408970976253\n",
      "Mean Squared Error: 0.14873684210526317| r2 score: 0.9855793952994258\n"
     ]
    }
   ],
   "source": [
    "from sklearn.ensemble import BaggingRegressor # type: ignore\n",
    "from sklearn.tree import DecisionTreeRegressor # type: ignore\n",
    "\n",
    "\n",
    "# 기본 모델로 의사결정나무 회귀 사용\n",
    "base_regressor = DecisionTreeRegressor(random_state=42)\n",
    "\n",
    "# BaggingRegressor로 앙상블 학습\n",
    "bagging_model = BaggingRegressor()#base_estimator=base_regressor, n_estimators=100, random_state=42)\n",
    "bagging_model.fit(X_train, y_train)\n",
    "\n",
    "# 예측\n",
    "y_pred = bagging_model.predict(X_test)\n",
    "\n",
    "# 성능 평가 (평균제곱오차, MSE)\n",
    "mse = mean_squared_error(y_test, y_pred)\n",
    "r2 = r2_score(y_test, y_pred)\n",
    "\n",
    "print(f'Mean Squared Error: {mse}| r2 score: {r2}')\n",
    "\n",
    "# 예측\n",
    "y_pred = bagging_model.predict(X_train)\n",
    "\n",
    "# 성능 평가 (평균제곱오차, MSE)\n",
    "mse = mean_squared_error(y_train, y_pred)\n",
    "r2 = r2_score(y_train, y_pred)\n",
    "\n",
    "print(f'Mean Squared Error: {mse}| r2 score: {r2}')\n",
    "\n",
    "\n"
   ]
  },
  {
   "cell_type": "markdown",
   "metadata": {},
   "source": [
    "### 3.3) 부스팅 (예찬)"
   ]
  },
  {
   "cell_type": "code",
   "execution_count": 48,
   "metadata": {},
   "outputs": [
    {
     "data": {
      "text/plain": [
       "(1.2720414400100708, 1.635361356670592, 0.7224010229110718)"
      ]
     },
     "execution_count": 48,
     "metadata": {},
     "output_type": "execute_result"
    }
   ],
   "source": [
    "from xgboost import XGBRegressor\n",
    "\n",
    "\n",
    "# 훈련 세트와 테스트 세트 분할 (80% 훈련, 20% 테스트)\n",
    "X_train, X_test, y_train, y_test = train_test_split(X, y, test_size=0.2, random_state=42)\n",
    "\n",
    "# XGBoost 모델 생성 및 학습\n",
    "model = XGBRegressor(objective=\"reg:squarederror\", n_estimators=100, learning_rate=0.1, max_depth=4, random_state=42)\n",
    "model.fit(X_train, y_train)\n",
    "\n",
    "# 예측 수행\n",
    "y_pred = model.predict(X_test)\n",
    "\n",
    "# 성능 평가\n",
    "mae = mean_absolute_error(y_test, y_pred)\n",
    "mse = mean_squared_error(y_test, y_pred)\n",
    "rmse = mse ** 0.5\n",
    "r2 = r2_score(y_test, y_pred)\n",
    "\n",
    "mae, rmse, r2"
   ]
  },
  {
   "cell_type": "code",
   "execution_count": 52,
   "metadata": {},
   "outputs": [],
   "source": [
    "import warnings\n",
    "warnings.filterwarnings('ignore')"
   ]
  },
  {
   "cell_type": "code",
   "execution_count": null,
   "metadata": {},
   "outputs": [],
   "source": [
    "from lightgbm import LGBMClassifier\n",
    "from sklearn.metrics import accuracy_score\n",
    "\n",
    "# LightGBM 라이브러리 로드\n",
    "from lightgbm import LGBMRegressor\n",
    "\n",
    "# LightGBM 회귀 모델 학습\n",
    "lgbm_model = LGBMRegressor(n_estimators=100, learning_rate=0.1, max_depth=3, random_state=42)\n",
    "lgbm_model.fit(X_train, y_train)\n",
    "\n",
    "# 예측\n",
    "y_pred_lgbm = lgbm_model.predict(X_test)\n",
    "\n",
    "# 모델 평가 (MSE, R² Score)\n",
    "mse_lgbm = mean_squared_error(y_test, y_pred_lgbm)\n",
    "r2_lgbm = r2_score(y_test, y_pred_lgbm)\n",
    "\n",
    "# 결과 출력\n",
    "mse_lgbm, r2_lgbm"
   ]
  },
  {
   "cell_type": "code",
   "execution_count": 55,
   "metadata": {},
   "outputs": [
    {
     "data": {
      "text/plain": [
       "(1.9466974114218667, 0.7979360594916013)"
      ]
     },
     "execution_count": 55,
     "metadata": {},
     "output_type": "execute_result"
    }
   ],
   "source": [
    "from sklearn.ensemble import GradientBoostingRegressor\n",
    "# Simple Gradient Boosting 모델 학습\n",
    "sgb_model = GradientBoostingRegressor(n_estimators=50, learning_rate=0.1, max_depth=2, random_state=42)\n",
    "sgb_model.fit(X_train, y_train)\n",
    "\n",
    "# 예측\n",
    "y_pred_sgb = sgb_model.predict(X_test)\n",
    "\n",
    "# 모델 평가 (MSE, R² Score)\n",
    "mse_sgb = mean_squared_error(y_test, y_pred_sgb)\n",
    "r2_sgb = r2_score(y_test, y_pred_sgb)\n",
    "\n",
    "# 결과 출력\n",
    "mse_sgb, r2_sgb"
   ]
  },
  {
   "cell_type": "code",
   "execution_count": 51,
   "metadata": {},
   "outputs": [
    {
     "data": {
      "text/plain": [
       "(2.5450985121875065, 0.7358230245043342)"
      ]
     },
     "execution_count": 51,
     "metadata": {},
     "output_type": "execute_result"
    }
   ],
   "source": [
    "from sklearn.ensemble import HistGradientBoostingRegressor\n",
    "\n",
    "# HistGradientBoosting 모델 학습\n",
    "hgb_model = HistGradientBoostingRegressor(max_iter=100, learning_rate=0.1, max_depth=3, random_state=42)\n",
    "hgb_model.fit(X_train, y_train)\n",
    "\n",
    "# 예측\n",
    "y_pred_hgb = hgb_model.predict(X_test)\n",
    "\n",
    "# 모델 평가 (MSE, R² Score)\n",
    "mse_hgb = mean_squared_error(y_test, y_pred_hgb)\n",
    "r2_hgb = r2_score(y_test, y_pred_hgb)\n",
    "\n",
    "# 결과 출력\n",
    "mse_hgb, r2_hgb"
   ]
  },
  {
   "cell_type": "markdown",
   "metadata": {},
   "source": [
    "### 3.4) 랜덤포레스트 (도연)"
   ]
  },
  {
   "cell_type": "code",
   "execution_count": 27,
   "metadata": {},
   "outputs": [
    {
     "name": "stdout",
     "output_type": "stream",
     "text": [
      "Mean Squared Error: 0.15632018090183167| r2 score: 0.9848441616508692\n",
      "Mean Squared Error: 0.8631471389022081| r2 score: 0.9180124089697111\n"
     ]
    },
    {
     "data": {
      "text/plain": [
       "G2                   0.943386\n",
       "G1                   0.007362\n",
       "absences             0.004236\n",
       "Walc                 0.003569\n",
       "famrel               0.003013\n",
       "health               0.002830\n",
       "goout                0.002798\n",
       "studytime            0.002511\n",
       "Medu                 0.002505\n",
       "age                  0.002072\n",
       "Fedu                 0.002006\n",
       "nursery              0.001523\n",
       "traveltime           0.001347\n",
       "failures             0.001260\n",
       "freetime             0.001260\n",
       "reason_course        0.001056\n",
       "Fjob_other           0.001016\n",
       "famsize              0.000991\n",
       "romantic             0.000942\n",
       "Dalc                 0.000906\n",
       "schoolsup            0.000857\n",
       "Mjob_services        0.000800\n",
       "reason_reputation    0.000777\n",
       "reason_home          0.000749\n",
       "Mjob_teacher         0.000743\n",
       "sex                  0.000728\n",
       "Fjob_health          0.000686\n",
       "activities           0.000655\n",
       "Mjob_other           0.000639\n",
       "Mjob_health          0.000636\n",
       "Fjob_services        0.000623\n",
       "paid                 0.000568\n",
       "famsup               0.000493\n",
       "Mjob_at_home         0.000487\n",
       "Fjob_teacher         0.000476\n",
       "guardian_father      0.000445\n",
       "reason_other         0.000439\n",
       "address              0.000438\n",
       "Pstatus              0.000427\n",
       "Fjob_at_home         0.000403\n",
       "guardian_mother      0.000379\n",
       "internet             0.000342\n",
       "school               0.000315\n",
       "guardian_other       0.000224\n",
       "higher               0.000083\n",
       "dtype: float64"
      ]
     },
     "execution_count": 27,
     "metadata": {},
     "output_type": "execute_result"
    }
   ],
   "source": [
    "from sklearn.ensemble import RandomForestRegressor\n",
    "\n",
    "\n",
    "model = RandomForestRegressor(n_estimators=100, max_depth=7, random_state=0)\n",
    "\n",
    "# 학습\n",
    "model.fit(X_train, y_train)\n",
    "\n",
    "# 예측 및 평가\n",
    "y_pred = model.predict(X_train)\n",
    "\n",
    "mse = mean_squared_error(y_train, y_pred)\n",
    "r2 = r2_score(y_train, y_pred)\n",
    "print(f'Mean Squared Error: {mse}| r2 score: {r2}')\n",
    "\n",
    "\n",
    "y_pred = model.predict(X_test)\n",
    "\n",
    "mse = mean_squared_error(y_test, y_pred)\n",
    "r2 = r2_score(y_test, y_pred)\n",
    "print(f'Mean Squared Error: {mse}| r2 score: {r2}')\n",
    "# rf_clf.estimators_ : 100개의 DecisionTreeClassifier를 확인\n",
    "\n",
    "\n",
    "# print(rf_clf.estimators_samples_)       # 100개의 DecisionTreeClassifier가 사용한 샘플 데이터 확인\n",
    "\n",
    "\n",
    "# 특성 중요도 확인\n",
    "fis = pd.Series(model.feature_importances_, index= X.columns).sort_values(ascending=False)\n",
    "fis\n"
   ]
  },
  {
   "cell_type": "code",
   "execution_count": 24,
   "metadata": {},
   "outputs": [
    {
     "data": {
      "image/png": "[encoded data removed]",
      "text/plain": [
       "<Figure size 800x600 with 1 Axes>"
      ]
     },
     "metadata": {},
     "output_type": "display_data"
    }
   ],
   "source": [
    "# 특성 중요도 시각화\n",
    "plt.figure(figsize=(8,6))\n",
    "sns.barplot(\n",
    "    x=fis,\n",
    "    y=fis.index,\n",
    "    hue=fis.index\n",
    ")\n",
    "\n",
    "plt.xlabel('Feature Importance')\n",
    "plt.ylabel('Feature')\n",
    "plt.show()"
   ]
  },
  {
   "cell_type": "code",
   "execution_count": null,
   "metadata": {},
   "outputs": [],
   "source": []
  }
 ],
 "metadata": {
  "kernelspec": {
   "display_name": "pystudy_env",
   "language": "python",
   "name": "python3"
  },
  "language_info": {
   "codemirror_mode": {
    "name": "ipython",
    "version": 3
   },
   "file_extension": ".py",
   "mimetype": "text/x-python",
   "name": "python",
   "nbconvert_exporter": "python",
   "pygments_lexer": "ipython3",
   "version": "3.12.8"
  }
 },
 "nbformat": 4,
 "nbformat_minor": 2
}
